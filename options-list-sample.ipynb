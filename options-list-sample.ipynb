{
 "cells": [
  {
   "cell_type": "code",
   "execution_count": 1,
   "metadata": {},
   "outputs": [],
   "source": [
    "from blpapi import *\n",
    "import json\n",
    "import pandas as pd\n",
    "import ipywidgets\n",
    "from pprint import pprint,pformat\n",
    "import logging as log\n",
    "from datetime import datetime,timedelta, date, time"
   ]
  },
  {
   "cell_type": "code",
   "execution_count": 2,
   "metadata": {},
   "outputs": [],
   "source": [
    "log.basicConfig(\n",
    "    level=log.DEBUG,\n",
    "    format='%(asctime)s - %(name)s - %(levelname)s - %(message)s',\n",
    "    handlers=[\n",
    "        log.FileHandler('bloomberg_api.log',mode='w'),  # Log to file\n",
    "    ]\n",
    ")\n",
    "logger = log.getLogger(__name__)"
   ]
  },
  {
   "cell_type": "code",
   "execution_count": 3,
   "metadata": {},
   "outputs": [],
   "source": [
    "df_source = []"
   ]
  },
  {
   "cell_type": "code",
   "execution_count": null,
   "metadata": {},
   "outputs": [],
   "source": []
  },
  {
   "cell_type": "code",
   "execution_count": 4,
   "metadata": {},
   "outputs": [
    {
     "name": "stdout",
     "output_type": "stream",
     "text": [
      "{'appname': 'blp-apac:test',\n",
      " 'hosts': [{'addr': 'jpn.cloudpoint.bloomberg.com', 'port': 8194},\n",
      "           {'addr': 'hkg.cloudpoint.bloomberg.com', 'port': 8194}],\n",
      " 'tlsInfo': {'password': '63IwMSyeYQsquRcC',\n",
      "             'pk12path': './certs/44E7465DAD0503DB07284BA1E39DCFB8.pk12',\n",
      "             'pk7path': './certs/rootCertificate.pk7'}}\n"
     ]
    }
   ],
   "source": [
    "config = json.load(open('bpipe_config.local.json'))\n",
    "pprint(config)\n",
    "\n",
    "APP_NAME = config[\"appname\"]"
   ]
  },
  {
   "cell_type": "code",
   "execution_count": 5,
   "metadata": {},
   "outputs": [],
   "source": [
    "sessOpts = SessionOptions()\n",
    "\n",
    "for i,v in enumerate(config[\"hosts\"]):\n",
    "    sessOpts.setServerAddress(v[\"addr\"],v[\"port\"],i)"
   ]
  },
  {
   "cell_type": "code",
   "execution_count": 6,
   "metadata": {},
   "outputs": [
    {
     "data": {
      "text/plain": [
       "<blpapi.internals.CorrelationId; proxy of <Swig Object of type 'blpapi_CorrelationId_t *' at 0x10fef9f50> >"
      ]
     },
     "execution_count": 6,
     "metadata": {},
     "output_type": "execute_result"
    }
   ],
   "source": [
    "authOpts = AuthOptions.createWithApp(APP_NAME)\n",
    "sessOpts.setSessionIdentityOptions(authOpts,correlationId=CorrelationId(APP_NAME))"
   ]
  },
  {
   "cell_type": "code",
   "execution_count": 7,
   "metadata": {},
   "outputs": [],
   "source": [
    "if \"tlsInfo\" in config:\n",
    "    tlsInfo = config[\"tlsInfo\"]\n",
    "    pk12Blob = None\n",
    "    pk7Blob = None\n",
    "    with open(tlsInfo['pk12path'], 'rb') as pk12File:\n",
    "        pk12Blob = pk12File.read()\n",
    "    with open(tlsInfo['pk7path'], 'rb') as pk7File:\n",
    "        pk7Blob = pk7File.read()\n",
    "\n",
    "    sessOpts.setTlsOptions(TlsOptions.createFromBlobs(pk12Blob, tlsInfo['password'], pk7Blob))"
   ]
  },
  {
   "cell_type": "code",
   "execution_count": 8,
   "metadata": {},
   "outputs": [],
   "source": [
    "def responseHandler(msg):\n",
    "    _data = {}\n",
    "    for _d in msg.toPy()[\"DATA\"]:\n",
    "        for k, v in _d.items():\n",
    "            # Handle datetime.date objects\n",
    "            if isinstance(v, date):\n",
    "                _data[k] = v.strftime('%Y/%m/%d')\n",
    "            elif isinstance(v, time):\n",
    "                _data[k] = v.strftime('%H:%M:%S.%f')[:-3]\n",
    "            else:\n",
    "                _data[k] = v\n",
    "\n",
    "    logger.info(pformat(_data))\n",
    "    return _data"
   ]
  },
  {
   "cell_type": "code",
   "execution_count": 9,
   "metadata": {},
   "outputs": [],
   "source": [
    "def onEvent(event,session):\n",
    "    global df_source\n",
    "\n",
    "    eventType = event.eventType()\n",
    "    \n",
    "    for msg in event:\n",
    "        msgType = msg.messageType()\n",
    "        if msg.correlationId():\n",
    "            corrVal = msg.correlationId().value()\n",
    "\n",
    "        if eventType == Event.SUBSCRIPTION_DATA:\n",
    "            logger.info(pformat(msg.toPy()))\n",
    "        elif eventType == Event.RESPONSE or eventType == Event.PARTIAL_RESPONSE:\n",
    "            df_source.append(responseHandler(msg))\n",
    "            \n",
    "        else:\n",
    "            logger.info(pformat(msg.toPy()))"
   ]
  },
  {
   "cell_type": "code",
   "execution_count": 10,
   "metadata": {},
   "outputs": [],
   "source": [
    "session = Session(sessOpts,onEvent)"
   ]
  },
  {
   "cell_type": "code",
   "execution_count": 11,
   "metadata": {},
   "outputs": [
    {
     "data": {
      "text/plain": [
       "True"
      ]
     },
     "execution_count": 11,
     "metadata": {},
     "output_type": "execute_result"
    }
   ],
   "source": [
    "session.start()"
   ]
  },
  {
   "cell_type": "code",
   "execution_count": 12,
   "metadata": {},
   "outputs": [
    {
     "data": {
      "text/plain": [
       "True"
      ]
     },
     "execution_count": 12,
     "metadata": {},
     "output_type": "execute_result"
    }
   ],
   "source": [
    "session.openService(\"//blp/mktlist\")\n",
    "session.openService(\"//blp/fo-discovery\")"
   ]
  },
  {
   "cell_type": "code",
   "execution_count": 13,
   "metadata": {},
   "outputs": [],
   "source": [
    "sublist = SubscriptionList()\n",
    "secs = \"IBM US Equity\".split(\",\")\n",
    "\n",
    "for s in secs:\n",
    "    logger.info(f\"subscribing to /chain/bpkbl/{s}\")\n",
    "    sublist.add(f\"//blp/mktlist/chain/bpkbl/{s}\",correlationId=CorrelationId(s))\n",
    "\n",
    "session.subscribe(sublist)"
   ]
  },
  {
   "cell_type": "code",
   "execution_count": 14,
   "metadata": {},
   "outputs": [],
   "source": [
    "for i in range(0,sublist.size()):\n",
    "    session.cancel(sublist.correlationIdAt(i))\n",
    "\n",
    "del sublist"
   ]
  },
  {
   "cell_type": "code",
   "execution_count": null,
   "metadata": {},
   "outputs": [
    {
     "data": {
      "application/vnd.jupyter.widget-view+json": {
       "model_id": "e8298268f5624d3ba1919fe870643e8f",
       "version_major": 2,
       "version_minor": 0
      },
      "text/plain": [
       "VBox(children=(Text(value='NKY Index', description='Security:', style=TextStyle(description_width='initial')),…"
      ]
     },
     "metadata": {},
     "output_type": "display_data"
    },
    {
     "data": {
      "text/html": [
       "<div>\n",
       "<style scoped>\n",
       "    .dataframe tbody tr th:only-of-type {\n",
       "        vertical-align: middle;\n",
       "    }\n",
       "\n",
       "    .dataframe tbody tr th {\n",
       "        vertical-align: top;\n",
       "    }\n",
       "\n",
       "    .dataframe thead th {\n",
       "        text-align: right;\n",
       "    }\n",
       "</style>\n",
       "<table border=\"1\" class=\"dataframe\">\n",
       "  <thead>\n",
       "    <tr style=\"text-align: right;\">\n",
       "      <th></th>\n",
       "      <th>PARSEKYABLE_DES_SOURCE</th>\n",
       "      <th>FEED_SOURCE</th>\n",
       "      <th>OPT_STRIKE_PX</th>\n",
       "      <th>OPT_EXPIRE_DT</th>\n",
       "      <th>OPT_PUT_CALL</th>\n",
       "      <th>OPT_UNDL_TICKER</th>\n",
       "      <th>FEED_EID1</th>\n",
       "      <th>FEED_EID2</th>\n",
       "      <th>FEED_EID3</th>\n",
       "      <th>FEED_EID4</th>\n",
       "    </tr>\n",
       "  </thead>\n",
       "  <tbody>\n",
       "    <tr>\n",
       "      <th>2</th>\n",
       "      <td>NKY 4 P40125 Index</td>\n",
       "      <td>cJO</td>\n",
       "      <td>40125.0</td>\n",
       "      <td>2025/04/11</td>\n",
       "      <td>P</td>\n",
       "      <td>NKY</td>\n",
       "      <td>14021</td>\n",
       "      <td>14021</td>\n",
       "      <td>42684</td>\n",
       "      <td>0</td>\n",
       "    </tr>\n",
       "    <tr>\n",
       "      <th>4</th>\n",
       "      <td>NKY 4 P20000 Index</td>\n",
       "      <td>cJO</td>\n",
       "      <td>20000.0</td>\n",
       "      <td>2025/04/11</td>\n",
       "      <td>P</td>\n",
       "      <td>NKY</td>\n",
       "      <td>14021</td>\n",
       "      <td>14021</td>\n",
       "      <td>42684</td>\n",
       "      <td>0</td>\n",
       "    </tr>\n",
       "    <tr>\n",
       "      <th>6</th>\n",
       "      <td>NKYM 4 P39250 Index</td>\n",
       "      <td>cJO</td>\n",
       "      <td>39250.0</td>\n",
       "      <td>2025/04/11</td>\n",
       "      <td>P</td>\n",
       "      <td>NKYM</td>\n",
       "      <td>14021</td>\n",
       "      <td>14021</td>\n",
       "      <td>42684</td>\n",
       "      <td>0</td>\n",
       "    </tr>\n",
       "    <tr>\n",
       "      <th>0</th>\n",
       "      <td>NKYMW3 3 P36000 Index</td>\n",
       "      <td>JO</td>\n",
       "      <td>36000.0</td>\n",
       "      <td>2025/03/21</td>\n",
       "      <td>P</td>\n",
       "      <td>NKYMW3</td>\n",
       "      <td>14021</td>\n",
       "      <td>14021</td>\n",
       "      <td>42684</td>\n",
       "      <td>0</td>\n",
       "    </tr>\n",
       "    <tr>\n",
       "      <th>1</th>\n",
       "      <td>NKY 2 P42125 Index</td>\n",
       "      <td>cJO</td>\n",
       "      <td>42125.0</td>\n",
       "      <td>2025/02/14</td>\n",
       "      <td>P</td>\n",
       "      <td>NKY</td>\n",
       "      <td>14021</td>\n",
       "      <td>14021</td>\n",
       "      <td>42684</td>\n",
       "      <td>0</td>\n",
       "    </tr>\n",
       "    <tr>\n",
       "      <th>3</th>\n",
       "      <td>NKYM 2 P43000 Index</td>\n",
       "      <td>cJO</td>\n",
       "      <td>43000.0</td>\n",
       "      <td>2025/02/14</td>\n",
       "      <td>P</td>\n",
       "      <td>NKYM</td>\n",
       "      <td>14021</td>\n",
       "      <td>14021</td>\n",
       "      <td>42684</td>\n",
       "      <td>0</td>\n",
       "    </tr>\n",
       "    <tr>\n",
       "      <th>5</th>\n",
       "      <td>NKY 2 P21000 Index</td>\n",
       "      <td>cJO</td>\n",
       "      <td>21000.0</td>\n",
       "      <td>2025/02/14</td>\n",
       "      <td>P</td>\n",
       "      <td>NKY</td>\n",
       "      <td>14021</td>\n",
       "      <td>14021</td>\n",
       "      <td>42684</td>\n",
       "      <td>0</td>\n",
       "    </tr>\n",
       "    <tr>\n",
       "      <th>7</th>\n",
       "      <td>NKY 2 P41625 Index</td>\n",
       "      <td>cJO</td>\n",
       "      <td>41625.0</td>\n",
       "      <td>2025/02/14</td>\n",
       "      <td>P</td>\n",
       "      <td>NKY</td>\n",
       "      <td>14021</td>\n",
       "      <td>14021</td>\n",
       "      <td>42684</td>\n",
       "      <td>0</td>\n",
       "    </tr>\n",
       "  </tbody>\n",
       "</table>\n",
       "</div>"
      ],
      "text/plain": [
       "  PARSEKYABLE_DES_SOURCE FEED_SOURCE  OPT_STRIKE_PX OPT_EXPIRE_DT  \\\n",
       "2     NKY 4 P40125 Index         cJO        40125.0    2025/04/11   \n",
       "4     NKY 4 P20000 Index         cJO        20000.0    2025/04/11   \n",
       "6    NKYM 4 P39250 Index         cJO        39250.0    2025/04/11   \n",
       "0  NKYMW3 3 P36000 Index          JO        36000.0    2025/03/21   \n",
       "1     NKY 2 P42125 Index         cJO        42125.0    2025/02/14   \n",
       "3    NKYM 2 P43000 Index         cJO        43000.0    2025/02/14   \n",
       "5     NKY 2 P21000 Index         cJO        21000.0    2025/02/14   \n",
       "7     NKY 2 P41625 Index         cJO        41625.0    2025/02/14   \n",
       "\n",
       "  OPT_PUT_CALL OPT_UNDL_TICKER  FEED_EID1  FEED_EID2  FEED_EID3  FEED_EID4  \n",
       "2            P             NKY      14021      14021      42684          0  \n",
       "4            P             NKY      14021      14021      42684          0  \n",
       "6            P            NKYM      14021      14021      42684          0  \n",
       "0            P          NKYMW3      14021      14021      42684          0  \n",
       "1            P             NKY      14021      14021      42684          0  \n",
       "3            P            NKYM      14021      14021      42684          0  \n",
       "5            P             NKY      14021      14021      42684          0  \n",
       "7            P             NKY      14021      14021      42684          0  "
      ]
     },
     "metadata": {},
     "output_type": "display_data"
    }
   ],
   "source": [
    "# Add this cell before the request cell\n",
    "security_input = ipywidgets.Text(\n",
    "    value='NKY Index',\n",
    "    description='Security:',\n",
    "    style={'description_width': 'initial'}\n",
    ")\n",
    "\n",
    "days_slider = ipywidgets.IntSlider(\n",
    "    value=180,\n",
    "    min=1,\n",
    "    max=365,\n",
    "    step=1,\n",
    "    description='Days Forward:',\n",
    "    style={'description_width': 'initial'}\n",
    ")\n",
    "\n",
    "put_call_dropdown = ipywidgets.Dropdown(\n",
    "    options=['C', 'P', 'F', 'T', 'M'],\n",
    "    value='C',\n",
    "    description='Option Type:',\n",
    "    style={'description_width': 'initial'}\n",
    ")\n",
    "\n",
    "execute_button = ipywidgets.Button(\n",
    "    description='Execute Request',\n",
    "    style={'description_width': 'initial'},\n",
    "    button_style='primary'\n",
    ")\n",
    "\n",
    "# Create a vertical box to stack the widgets\n",
    "controls = ipywidgets.VBox([\n",
    "    security_input,\n",
    "    days_slider,\n",
    "    put_call_dropdown,\n",
    "    execute_button\n",
    "])\n",
    "display(controls)"
   ]
  },
  {
   "cell_type": "code",
   "execution_count": 16,
   "metadata": {},
   "outputs": [],
   "source": [
    "# Define the execution function\n",
    "def on_execute_button_clicked(b):\n",
    "    global df_source\n",
    "    \n",
    "    # Clear the previous data\n",
    "    df_source = []\n",
    "    \n",
    "    svc = session.getService(\"//blp/fo-discovery\")\n",
    "    req = svc.createRequest(\"OptionsScreenRequest\")\n",
    "    \n",
    "    underlying = req.getElement(\"SEARCH_CRITERIA\").getElement(\"UNDERLYING\")\n",
    "    underlying.setElement(\"UNDERLYING_SECURITY\", security_input.value)\n",
    "    underlying.setElement(\"UNDERLYING_TYPE\", \"PARSEKYABLE_DES_SOURCE\")\n",
    "    \n",
    "    current_date = datetime.now().strftime('%Y-%m-%d')\n",
    "    end_date = (datetime.now() + timedelta(days=days_slider.value)).strftime('%Y-%m-%d')\n",
    "    \n",
    "    fieldFields = req.getElement(\"FILTER_FIELDS\")\n",
    "    fieldFields.setElement(\"OPT_EXPIRE_DT_GTEQ\", current_date)\n",
    "    fieldFields.setElement(\"OPT_EXPIRE_DT_LTEQ\", end_date)\n",
    "    fieldFields.setElement(\"OPT_PUT_CALL\", put_call_dropdown.value)\n",
    "    \n",
    "    logger.info(req)\n",
    "    df_source = []\n",
    "    evtQueue = EventQueue()\n",
    "    session.sendRequest(req,eventQueue=evtQueue)\n",
    "\n",
    "    search = True\n",
    "    while search:\n",
    "        evt = evtQueue.nextEvent(30000)\n",
    "        evtType = evt.eventType()\n",
    "        for msg in evt:\n",
    "            if evtType == Event.TIMEOUT:\n",
    "                logger.info(\"Timeout occurred\")\n",
    "                search = False\n",
    "            elif evtType == Event.RESPONSE or evtType == Event.PARTIAL_RESPONSE:\n",
    "                df_source.append(responseHandler(msg))\n",
    "                if evtType == Event.RESPONSE:\n",
    "                    search = False\n",
    "            else:\n",
    "                logger.info(pformat(evt.toPy()))\n",
    "\n",
    "    # Add a small delay to allow the data to be collected\n",
    "    import time\n",
    "    time.sleep(1)\n",
    "    \n",
    "    # Clear previous output and display new DataFrame\n",
    "    from IPython.display import clear_output, display\n",
    "    clear_output(wait=True)\n",
    "    \n",
    "    # Redisplay the controls\n",
    "    display(controls)\n",
    "    # Create and display the DataFrame\n",
    "    if len(df_source) > 0:\n",
    "        df = pd.DataFrame(df_source).sort_values([\"OPT_EXPIRE_DT\"], ascending=False)\n",
    "        display(df[[\"PARSEKYABLE_DES_SOURCE\",\"FEED_SOURCE\",\"OPT_STRIKE_PX\",\"OPT_EXPIRE_DT\",\"OPT_PUT_CALL\",\"OPT_UNDL_TICKER\",\"FEED_EID1\",\"FEED_EID2\",\"FEED_EID3\",\"FEED_EID4\"]])\n",
    "\n",
    "execute_button.on_click(on_execute_button_clicked)"
   ]
  },
  {
   "cell_type": "code",
   "execution_count": 58,
   "metadata": {},
   "outputs": [
    {
     "data": {
      "text/plain": [
       "True"
      ]
     },
     "execution_count": 58,
     "metadata": {},
     "output_type": "execute_result"
    }
   ],
   "source": [
    "session.stop()"
   ]
  },
  {
   "cell_type": "code",
   "execution_count": null,
   "metadata": {},
   "outputs": [],
   "source": []
  }
 ],
 "metadata": {
  "kernelspec": {
   "display_name": ".venv",
   "language": "python",
   "name": "python3"
  },
  "language_info": {
   "codemirror_mode": {
    "name": "ipython",
    "version": 3
   },
   "file_extension": ".py",
   "mimetype": "text/x-python",
   "name": "python",
   "nbconvert_exporter": "python",
   "pygments_lexer": "ipython3",
   "version": "3.11.10"
  }
 },
 "nbformat": 4,
 "nbformat_minor": 2
}
