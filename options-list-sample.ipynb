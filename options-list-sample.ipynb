{
 "cells": [
  {
   "cell_type": "code",
   "execution_count": 1,
   "metadata": {},
   "outputs": [],
   "source": [
    "from blpapi import *\n",
    "import json\n",
    "import pandas as pd\n",
    "import ipywidgets\n",
    "from pprint import pprint,pformat\n",
    "import logging as log\n",
    "from datetime import datetime,timedelta, date, time"
   ]
  },
  {
   "cell_type": "code",
   "execution_count": 2,
   "metadata": {},
   "outputs": [],
   "source": [
    "log.basicConfig(\n",
    "    level=log.DEBUG,\n",
    "    format='%(asctime)s - %(name)s - %(levelname)s - %(message)s',\n",
    "    handlers=[\n",
    "        log.FileHandler('bloomberg_api.log',mode='w'),  # Log to file\n",
    "    ]\n",
    ")\n",
    "logger = log.getLogger(__name__)"
   ]
  },
  {
   "cell_type": "code",
   "execution_count": 3,
   "metadata": {},
   "outputs": [],
   "source": [
    "df_source = []"
   ]
  },
  {
   "cell_type": "code",
   "execution_count": null,
   "metadata": {},
   "outputs": [],
   "source": []
  },
  {
   "cell_type": "code",
   "execution_count": 4,
   "metadata": {},
   "outputs": [
    {
     "name": "stdout",
     "output_type": "stream",
     "text": [
      "{'appname': 'blp-apac:test',\n",
      " 'hosts': [{'addr': 'jpn.cloudpoint.bloomberg.com', 'port': 8194},\n",
      "           {'addr': 'hkg.cloudpoint.bloomberg.com', 'port': 8194}],\n",
      " 'tlsInfo': {'password': '63IwMSyeYQsquRcC',\n",
      "             'pk12path': './certs/44E7465DAD0503DB07284BA1E39DCFB8.pk12',\n",
      "             'pk7path': './certs/rootCertificate.pk7'}}\n"
     ]
    }
   ],
   "source": [
    "config = json.load(open('bpipe_config.local.json'))\n",
    "pprint(config)\n",
    "\n",
    "APP_NAME = config[\"appname\"]"
   ]
  },
  {
   "cell_type": "code",
   "execution_count": 5,
   "metadata": {},
   "outputs": [],
   "source": [
    "sessOpts = SessionOptions()\n",
    "\n",
    "for i,v in enumerate(config[\"hosts\"]):\n",
    "    sessOpts.setServerAddress(v[\"addr\"],v[\"port\"],i)"
   ]
  },
  {
   "cell_type": "code",
   "execution_count": 6,
   "metadata": {},
   "outputs": [
    {
     "data": {
      "text/plain": [
       "<blpapi.internals.CorrelationId; proxy of <Swig Object of type 'blpapi_CorrelationId_t *' at 0x10c560d80> >"
      ]
     },
     "execution_count": 6,
     "metadata": {},
     "output_type": "execute_result"
    }
   ],
   "source": [
    "authOpts = AuthOptions.createWithApp(APP_NAME)\n",
    "sessOpts.setSessionIdentityOptions(authOpts,correlationId=CorrelationId(APP_NAME))"
   ]
  },
  {
   "cell_type": "code",
   "execution_count": 7,
   "metadata": {},
   "outputs": [],
   "source": [
    "if \"tlsInfo\" in config:\n",
    "    tlsInfo = config[\"tlsInfo\"]\n",
    "    pk12Blob = None\n",
    "    pk7Blob = None\n",
    "    with open(tlsInfo['pk12path'], 'rb') as pk12File:\n",
    "        pk12Blob = pk12File.read()\n",
    "    with open(tlsInfo['pk7path'], 'rb') as pk7File:\n",
    "        pk7Blob = pk7File.read()\n",
    "\n",
    "    sessOpts.setTlsOptions(TlsOptions.createFromBlobs(pk12Blob, tlsInfo['password'], pk7Blob))"
   ]
  },
  {
   "cell_type": "code",
   "execution_count": 8,
   "metadata": {},
   "outputs": [],
   "source": [
    "def onEvent(event,session):\n",
    "    global df_source\n",
    "\n",
    "    eventType = event.eventType()\n",
    "    \n",
    "    for msg in event:\n",
    "        msgType = msg.messageType()\n",
    "        if msg.correlationId():\n",
    "            corrVal = msg.correlationId().value()\n",
    "\n",
    "        if eventType == Event.SUBSCRIPTION_DATA:\n",
    "            logger.info(pformat(msg.toPy()))\n",
    "        elif eventType == Event.RESPONSE or eventType == Event.PARTIAL_RESPONSE:\n",
    "            _data = {}\n",
    "            \n",
    "            \n",
    "            for _d in msg.toPy()[\"DATA\"]:\n",
    "                \n",
    "                for k, v in _d.items():\n",
    "                    # Handle datetime.date objects\n",
    "                    if isinstance(v, date):\n",
    "                        _data[k] = v.strftime('%Y/%m/%d')\n",
    "                    elif isinstance(v, time):\n",
    "                        _data[k] = v.strftime('%H:%M:%S.%f')[:-3]\n",
    "                    else:\n",
    "                        _data[k] = v\n",
    "\n",
    "            logger.info(pformat(_data))\n",
    "            df_source.append(_data)\n",
    "            \n",
    "        else:\n",
    "            logger.info(pformat(msg.toPy()))"
   ]
  },
  {
   "cell_type": "code",
   "execution_count": 9,
   "metadata": {},
   "outputs": [],
   "source": [
    "session = Session(sessOpts,onEvent)"
   ]
  },
  {
   "cell_type": "code",
   "execution_count": 10,
   "metadata": {},
   "outputs": [
    {
     "data": {
      "text/plain": [
       "True"
      ]
     },
     "execution_count": 10,
     "metadata": {},
     "output_type": "execute_result"
    }
   ],
   "source": [
    "session.start()"
   ]
  },
  {
   "cell_type": "code",
   "execution_count": 11,
   "metadata": {},
   "outputs": [
    {
     "data": {
      "text/plain": [
       "True"
      ]
     },
     "execution_count": 11,
     "metadata": {},
     "output_type": "execute_result"
    }
   ],
   "source": [
    "session.openService(\"//blp/mktlist\")\n",
    "session.openService(\"//blp/fo-discovery\")"
   ]
  },
  {
   "cell_type": "code",
   "execution_count": 12,
   "metadata": {},
   "outputs": [],
   "source": [
    "sublist = SubscriptionList()\n",
    "secs = \"IBM US Equity\".split(\",\")\n",
    "\n",
    "for s in secs:\n",
    "    logger.info(f\"subscribing to /chain/bpkbl/{s}\")\n",
    "    sublist.add(f\"//blp/mktlist/chain/bpkbl/{s}\",correlationId=CorrelationId(s))\n",
    "\n",
    "session.subscribe(sublist)"
   ]
  },
  {
   "cell_type": "code",
   "execution_count": 13,
   "metadata": {},
   "outputs": [],
   "source": [
    "for i in range(0,sublist.size()):\n",
    "    session.cancel(sublist.correlationIdAt(i))\n",
    "\n",
    "del sublist"
   ]
  },
  {
   "cell_type": "code",
   "execution_count": 40,
   "metadata": {},
   "outputs": [
    {
     "data": {
      "text/plain": [
       "<blpapi.internals.CorrelationId; proxy of <Swig Object of type 'blpapi_CorrelationId_t *' at 0x114b1acd0> >"
      ]
     },
     "execution_count": 40,
     "metadata": {},
     "output_type": "execute_result"
    }
   ],
   "source": [
    "svc = session.getService(\"//blp/fo-discovery\")\n",
    "req = svc.createRequest(\"OptionsScreenRequest\") \n",
    "#req = svc.createRequest(\"FuturesScreenRequest\")\n",
    "underlying = req.getElement(\"SEARCH_CRITERIA\").getElement(\"UNDERLYING\")\n",
    "underlying.setElement(\"UNDERLYING_SECURITY\",\"NKY Index\")\n",
    "underlying.setElement(\"UNDERLYING_TYPE\",\"PARSEKYABLE_DES_SOURCE\")\n",
    "\n",
    "current_date = datetime.now().strftime('%Y-%m-%d')\n",
    "end_date = (datetime.now() + timedelta(days=180)).strftime('%Y-%m-%d')\n",
    "\n",
    "fieldFields = req.getElement(\"FILTER_FIELDS\")\n",
    "fieldFields.setElement(\"OPT_EXPIRE_DT_GTEQ\",current_date)\n",
    "fieldFields.setElement(\"OPT_EXPIRE_DT_LTEQ\",end_date)\n",
    "fieldFields.setElement(\"OPT_PUT_CALL\",\"C\")\n",
    "\n",
    "logger.info(req)\n",
    "df_source = []\n",
    "session.sendRequest(req)"
   ]
  },
  {
   "cell_type": "code",
   "execution_count": 43,
   "metadata": {},
   "outputs": [
    {
     "data": {
      "text/html": [
       "<div>\n",
       "<style scoped>\n",
       "    .dataframe tbody tr th:only-of-type {\n",
       "        vertical-align: middle;\n",
       "    }\n",
       "\n",
       "    .dataframe tbody tr th {\n",
       "        vertical-align: top;\n",
       "    }\n",
       "\n",
       "    .dataframe thead th {\n",
       "        text-align: right;\n",
       "    }\n",
       "</style>\n",
       "<table border=\"1\" class=\"dataframe\">\n",
       "  <thead>\n",
       "    <tr style=\"text-align: right;\">\n",
       "      <th></th>\n",
       "      <th>PARSEKYABLE_DES_SOURCE</th>\n",
       "      <th>FEED_SOURCE</th>\n",
       "      <th>OPT_STRIKE_PX</th>\n",
       "      <th>OPT_EXPIRE_DT</th>\n",
       "      <th>OPT_PUT_CALL</th>\n",
       "      <th>OPT_UNDL_TICKER</th>\n",
       "      <th>FEED_EID1</th>\n",
       "      <th>FEED_EID2</th>\n",
       "      <th>FEED_EID3</th>\n",
       "      <th>FEED_EID4</th>\n",
       "    </tr>\n",
       "  </thead>\n",
       "  <tbody>\n",
       "    <tr>\n",
       "      <th>0</th>\n",
       "      <td>NKY 3 C29500 Index</td>\n",
       "      <td>JO</td>\n",
       "      <td>29500.0</td>\n",
       "      <td>2025/03/14</td>\n",
       "      <td>C</td>\n",
       "      <td>NKY</td>\n",
       "      <td>14021</td>\n",
       "      <td>14021</td>\n",
       "      <td>42684</td>\n",
       "      <td>0</td>\n",
       "    </tr>\n",
       "    <tr>\n",
       "      <th>2</th>\n",
       "      <td>NKYM 3 C38125 Index</td>\n",
       "      <td>JO</td>\n",
       "      <td>38125.0</td>\n",
       "      <td>2025/03/14</td>\n",
       "      <td>C</td>\n",
       "      <td>NKYM</td>\n",
       "      <td>14021</td>\n",
       "      <td>14021</td>\n",
       "      <td>42684</td>\n",
       "      <td>0</td>\n",
       "    </tr>\n",
       "    <tr>\n",
       "      <th>4</th>\n",
       "      <td>NKY 3 C38875 Index</td>\n",
       "      <td>JO</td>\n",
       "      <td>38875.0</td>\n",
       "      <td>2025/03/14</td>\n",
       "      <td>C</td>\n",
       "      <td>NKY</td>\n",
       "      <td>14021</td>\n",
       "      <td>14021</td>\n",
       "      <td>42684</td>\n",
       "      <td>0</td>\n",
       "    </tr>\n",
       "    <tr>\n",
       "      <th>6</th>\n",
       "      <td>NKY 3 C37000 Index</td>\n",
       "      <td>JO</td>\n",
       "      <td>37000.0</td>\n",
       "      <td>2025/03/14</td>\n",
       "      <td>C</td>\n",
       "      <td>NKY</td>\n",
       "      <td>14021</td>\n",
       "      <td>14021</td>\n",
       "      <td>42684</td>\n",
       "      <td>0</td>\n",
       "    </tr>\n",
       "    <tr>\n",
       "      <th>1</th>\n",
       "      <td>NKYM 2 C43125 Index</td>\n",
       "      <td>cJO</td>\n",
       "      <td>43125.0</td>\n",
       "      <td>2025/02/14</td>\n",
       "      <td>C</td>\n",
       "      <td>NKYM</td>\n",
       "      <td>14021</td>\n",
       "      <td>14021</td>\n",
       "      <td>42684</td>\n",
       "      <td>0</td>\n",
       "    </tr>\n",
       "    <tr>\n",
       "      <th>3</th>\n",
       "      <td>NKYM 2 C43250 Index</td>\n",
       "      <td>cJO</td>\n",
       "      <td>43250.0</td>\n",
       "      <td>2025/02/14</td>\n",
       "      <td>C</td>\n",
       "      <td>NKYM</td>\n",
       "      <td>14021</td>\n",
       "      <td>14021</td>\n",
       "      <td>42684</td>\n",
       "      <td>0</td>\n",
       "    </tr>\n",
       "    <tr>\n",
       "      <th>5</th>\n",
       "      <td>NKY 2 C42125 Index</td>\n",
       "      <td>cJO</td>\n",
       "      <td>42125.0</td>\n",
       "      <td>2025/02/14</td>\n",
       "      <td>C</td>\n",
       "      <td>NKY</td>\n",
       "      <td>14021</td>\n",
       "      <td>14021</td>\n",
       "      <td>42684</td>\n",
       "      <td>0</td>\n",
       "    </tr>\n",
       "    <tr>\n",
       "      <th>7</th>\n",
       "      <td>NKYM 2 C42875 Index</td>\n",
       "      <td>cJO</td>\n",
       "      <td>42875.0</td>\n",
       "      <td>2025/02/14</td>\n",
       "      <td>C</td>\n",
       "      <td>NKYM</td>\n",
       "      <td>14021</td>\n",
       "      <td>14021</td>\n",
       "      <td>42684</td>\n",
       "      <td>0</td>\n",
       "    </tr>\n",
       "  </tbody>\n",
       "</table>\n",
       "</div>"
      ],
      "text/plain": [
       "  PARSEKYABLE_DES_SOURCE FEED_SOURCE  OPT_STRIKE_PX OPT_EXPIRE_DT  \\\n",
       "0     NKY 3 C29500 Index          JO        29500.0    2025/03/14   \n",
       "2    NKYM 3 C38125 Index          JO        38125.0    2025/03/14   \n",
       "4     NKY 3 C38875 Index          JO        38875.0    2025/03/14   \n",
       "6     NKY 3 C37000 Index          JO        37000.0    2025/03/14   \n",
       "1    NKYM 2 C43125 Index         cJO        43125.0    2025/02/14   \n",
       "3    NKYM 2 C43250 Index         cJO        43250.0    2025/02/14   \n",
       "5     NKY 2 C42125 Index         cJO        42125.0    2025/02/14   \n",
       "7    NKYM 2 C42875 Index         cJO        42875.0    2025/02/14   \n",
       "\n",
       "  OPT_PUT_CALL OPT_UNDL_TICKER  FEED_EID1  FEED_EID2  FEED_EID3  FEED_EID4  \n",
       "0            C             NKY      14021      14021      42684          0  \n",
       "2            C            NKYM      14021      14021      42684          0  \n",
       "4            C             NKY      14021      14021      42684          0  \n",
       "6            C             NKY      14021      14021      42684          0  \n",
       "1            C            NKYM      14021      14021      42684          0  \n",
       "3            C            NKYM      14021      14021      42684          0  \n",
       "5            C             NKY      14021      14021      42684          0  \n",
       "7            C            NKYM      14021      14021      42684          0  "
      ]
     },
     "execution_count": 43,
     "metadata": {},
     "output_type": "execute_result"
    }
   ],
   "source": [
    "df = pd.DataFrame(df_source).sort_values([\"OPT_EXPIRE_DT\"],ascending=False)\n",
    "df[\"PARSEKYABLE_DES_SOURCE,FEED_SOURCE,OPT_STRIKE_PX,OPT_EXPIRE_DT,OPT_PUT_CALL,OPT_UNDL_TICKER,FEED_EID1,FEED_EID2,FEED_EID3,FEED_EID4\".split(\",\")]"
   ]
  },
  {
   "cell_type": "code",
   "execution_count": null,
   "metadata": {},
   "outputs": [],
   "source": []
  }
 ],
 "metadata": {
  "kernelspec": {
   "display_name": ".venv",
   "language": "python",
   "name": "python3"
  },
  "language_info": {
   "codemirror_mode": {
    "name": "ipython",
    "version": 3
   },
   "file_extension": ".py",
   "mimetype": "text/x-python",
   "name": "python",
   "nbconvert_exporter": "python",
   "pygments_lexer": "ipython3",
   "version": "3.11.10"
  }
 },
 "nbformat": 4,
 "nbformat_minor": 2
}
