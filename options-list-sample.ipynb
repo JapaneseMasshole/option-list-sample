{
 "cells": [
  {
   "cell_type": "code",
   "execution_count": 36,
   "metadata": {},
   "outputs": [],
   "source": [
    "from blpapi import *\n",
    "import json\n",
    "import pandas as pd\n",
    "import ipywidgets\n",
    "from pprint import pprint,pformat\n",
    "import logging as log\n",
    "from datetime import datetime,timedelta, date, time"
   ]
  },
  {
   "cell_type": "code",
   "execution_count": 37,
   "metadata": {},
   "outputs": [],
   "source": [
    "log.basicConfig(\n",
    "    level=log.DEBUG,\n",
    "    format='%(asctime)s - %(name)s - %(levelname)s - %(message)s',\n",
    "    handlers=[\n",
    "        log.FileHandler('bloomberg_api.log',mode='w'),  # Log to file\n",
    "    ]\n",
    ")\n",
    "logger = log.getLogger(__name__)"
   ]
  },
  {
   "cell_type": "code",
   "execution_count": 38,
   "metadata": {},
   "outputs": [],
   "source": [
    "df_source = []"
   ]
  },
  {
   "cell_type": "code",
   "execution_count": null,
   "metadata": {},
   "outputs": [],
   "source": []
  },
  {
   "cell_type": "code",
   "execution_count": null,
   "metadata": {},
   "outputs": [],
   "source": [
    "config = json.load(open('bpipe_config.local.json'))\n",
    "pprint(config)\n",
    "\n",
    "APP_NAME = config[\"appname\"]"
   ]
  },
  {
   "cell_type": "code",
   "execution_count": 40,
   "metadata": {},
   "outputs": [],
   "source": [
    "sessOpts = SessionOptions()\n",
    "\n",
    "for i,v in enumerate(config[\"hosts\"]):\n",
    "    sessOpts.setServerAddress(v[\"addr\"],v[\"port\"],i)"
   ]
  },
  {
   "cell_type": "code",
   "execution_count": null,
   "metadata": {},
   "outputs": [],
   "source": [
    "authOpts = AuthOptions.createWithApp(APP_NAME)\n",
    "sessOpts.setSessionIdentityOptions(authOpts,correlationId=CorrelationId(APP_NAME))"
   ]
  },
  {
   "cell_type": "code",
   "execution_count": 42,
   "metadata": {},
   "outputs": [],
   "source": [
    "if \"tlsInfo\" in config:\n",
    "    tlsInfo = config[\"tlsInfo\"]\n",
    "    pk12Blob = None\n",
    "    pk7Blob = None\n",
    "    with open(tlsInfo['pk12path'], 'rb') as pk12File:\n",
    "        pk12Blob = pk12File.read()\n",
    "    with open(tlsInfo['pk7path'], 'rb') as pk7File:\n",
    "        pk7Blob = pk7File.read()\n",
    "\n",
    "    sessOpts.setTlsOptions(TlsOptions.createFromBlobs(pk12Blob, tlsInfo['password'], pk7Blob))"
   ]
  },
  {
   "cell_type": "code",
   "execution_count": 43,
   "metadata": {},
   "outputs": [],
   "source": [
    "def responseHandler(msg):\n",
    "    _data = {}\n",
    "    for _d in msg.toPy()[\"DATA\"]:\n",
    "        for k, v in _d.items():\n",
    "            # Handle datetime.date objects\n",
    "            if isinstance(v, date):\n",
    "                _data[k] = v.strftime('%Y/%m/%d')\n",
    "            elif isinstance(v, time):\n",
    "                _data[k] = v.strftime('%H:%M:%S.%f')[:-3]\n",
    "            else:\n",
    "                _data[k] = v\n",
    "\n",
    "    logger.info(pformat(_data))\n",
    "    return _data"
   ]
  },
  {
   "cell_type": "code",
   "execution_count": 44,
   "metadata": {},
   "outputs": [],
   "source": [
    "def onEvent(event,session):\n",
    "    global df_source\n",
    "\n",
    "    eventType = event.eventType()\n",
    "    \n",
    "    for msg in event:\n",
    "        msgType = msg.messageType()\n",
    "        if msg.correlationId():\n",
    "            corrVal = msg.correlationId().value()\n",
    "\n",
    "        if eventType == Event.SUBSCRIPTION_DATA:\n",
    "            logger.info(pformat(msg.toPy()))\n",
    "        elif eventType == Event.RESPONSE or eventType == Event.PARTIAL_RESPONSE:\n",
    "            df_source.append(responseHandler(msg))\n",
    "            \n",
    "        else:\n",
    "            logger.info(pformat(msg.toPy()))"
   ]
  },
  {
   "cell_type": "code",
   "execution_count": 45,
   "metadata": {},
   "outputs": [],
   "source": [
    "session = Session(sessOpts,onEvent)"
   ]
  },
  {
   "cell_type": "code",
   "execution_count": null,
   "metadata": {},
   "outputs": [],
   "source": [
    "session.start()"
   ]
  },
  {
   "cell_type": "code",
   "execution_count": null,
   "metadata": {},
   "outputs": [],
   "source": [
    "session.openService(\"//blp/mktlist\")\n",
    "session.openService(\"//blp/fo-discovery\")"
   ]
  },
  {
   "cell_type": "code",
   "execution_count": 48,
   "metadata": {},
   "outputs": [],
   "source": [
    "sublist = SubscriptionList()\n",
    "secs = \"IBM US Equity\".split(\",\")\n",
    "\n",
    "for s in secs:\n",
    "    logger.info(f\"subscribing to /chain/bpkbl/{s}\")\n",
    "    sublist.add(f\"//blp/mktlist/chain/bpkbl/{s}\",correlationId=CorrelationId(s))\n",
    "\n",
    "session.subscribe(sublist)"
   ]
  },
  {
   "cell_type": "code",
   "execution_count": 49,
   "metadata": {},
   "outputs": [],
   "source": [
    "for i in range(0,sublist.size()):\n",
    "    session.cancel(sublist.correlationIdAt(i))\n",
    "\n",
    "del sublist"
   ]
  },
  {
   "cell_type": "code",
   "execution_count": null,
   "metadata": {},
   "outputs": [],
   "source": [
    "# Add this cell before the request cell\n",
    "security_input = ipywidgets.Text(\n",
    "    value='NKY Index',\n",
    "    description='Security:',\n",
    "    style={'description_width': 'initial'}\n",
    ")\n",
    "\n",
    "days_slider = ipywidgets.IntSlider(\n",
    "    value=180,\n",
    "    min=1,\n",
    "    max=365,\n",
    "    step=1,\n",
    "    description='Days Forward:',\n",
    "    style={'description_width': 'initial'}\n",
    ")\n",
    "\n",
    "put_call_dropdown = ipywidgets.Dropdown(\n",
    "    options=['C', 'P', 'F', 'T', 'M'],\n",
    "    value='C',\n",
    "    description='Option Type:',\n",
    "    style={'description_width': 'initial'}\n",
    ")\n",
    "\n",
    "execute_button = ipywidgets.Button(\n",
    "    description='Execute Request',\n",
    "    style={'description_width': 'initial'},\n",
    "    button_style='primary'\n",
    ")\n",
    "\n",
    "# Create a vertical box to stack the widgets\n",
    "controls = ipywidgets.VBox([\n",
    "    security_input,\n",
    "    days_slider,\n",
    "    put_call_dropdown,\n",
    "    execute_button\n",
    "])\n",
    "display(controls)"
   ]
  },
  {
   "cell_type": "code",
   "execution_count": 51,
   "metadata": {},
   "outputs": [],
   "source": [
    "# Define the execution function\n",
    "def on_execute_button_clicked(b):\n",
    "    global df_source\n",
    "    \n",
    "    # Clear the previous data\n",
    "    df_source = []\n",
    "    \n",
    "    svc = session.getService(\"//blp/fo-discovery\")\n",
    "    req = svc.createRequest(\"OptionsScreenRequest\")\n",
    "    \n",
    "    underlying = req.getElement(\"SEARCH_CRITERIA\").getElement(\"UNDERLYING\")\n",
    "    underlying.setElement(\"UNDERLYING_SECURITY\", security_input.value)\n",
    "    underlying.setElement(\"UNDERLYING_TYPE\", \"PARSEKYABLE_DES_SOURCE\")\n",
    "    \n",
    "    current_date = datetime.now().strftime('%Y-%m-%d')\n",
    "    end_date = (datetime.now() + timedelta(days=days_slider.value)).strftime('%Y-%m-%d')\n",
    "    \n",
    "    fieldFields = req.getElement(\"FILTER_FIELDS\")\n",
    "    fieldFields.setElement(\"OPT_EXPIRE_DT_GTEQ\", current_date)\n",
    "    fieldFields.setElement(\"OPT_EXPIRE_DT_LTEQ\", end_date)\n",
    "    fieldFields.setElement(\"OPT_PUT_CALL\", put_call_dropdown.value)\n",
    "    \n",
    "    logger.info(req)\n",
    "    df_source = []\n",
    "    evtQueue = EventQueue()\n",
    "    session.sendRequest(req,eventQueue=evtQueue)\n",
    "\n",
    "    search = True\n",
    "    while search:\n",
    "        evt = evtQueue.nextEvent(30000)\n",
    "        evtType = evt.eventType()\n",
    "        for msg in evt:\n",
    "            if evtType == Event.TIMEOUT:\n",
    "                logger.info(\"Timeout occurred\")\n",
    "                search = False\n",
    "            elif evtType == Event.RESPONSE or evtType == Event.PARTIAL_RESPONSE:\n",
    "                df_source.append(responseHandler(msg))\n",
    "                if evtType == Event.RESPONSE:\n",
    "                    search = False\n",
    "            else:\n",
    "                logger.info(pformat(evt.toPy()))\n",
    "\n",
    "    # Add a small delay to allow the data to be collected\n",
    "    import time\n",
    "    time.sleep(1)\n",
    "    \n",
    "    # Clear previous output and display new DataFrame\n",
    "    from IPython.display import clear_output, display\n",
    "    clear_output(wait=True)\n",
    "    \n",
    "    # Redisplay the controls\n",
    "    display(controls)\n",
    "    # Create and display the DataFrame\n",
    "    if len(df_source) > 0:\n",
    "        df = pd.DataFrame(df_source).sort_values([\"OPT_EXPIRE_DT\"], ascending=False)\n",
    "        display(df[[\"PARSEKYABLE_DES_SOURCE\",\"FEED_SOURCE\",\"OPT_STRIKE_PX\",\"OPT_EXPIRE_DT\",\"OPT_PUT_CALL\",\"OPT_UNDL_TICKER\",\"FEED_EID1\",\"FEED_EID2\",\"FEED_EID3\",\"FEED_EID4\"]])\n",
    "\n",
    "execute_button.on_click(on_execute_button_clicked)"
   ]
  },
  {
   "cell_type": "code",
   "execution_count": null,
   "metadata": {},
   "outputs": [],
   "source": [
    "session.stop()"
   ]
  },
  {
   "cell_type": "code",
   "execution_count": null,
   "metadata": {},
   "outputs": [],
   "source": []
  }
 ],
 "metadata": {
  "kernelspec": {
   "display_name": ".venv",
   "language": "python",
   "name": "python3"
  },
  "language_info": {
   "codemirror_mode": {
    "name": "ipython",
    "version": 3
   },
   "file_extension": ".py",
   "mimetype": "text/x-python",
   "name": "python",
   "nbconvert_exporter": "python",
   "pygments_lexer": "ipython3",
   "version": "3.11.10"
  }
 },
 "nbformat": 4,
 "nbformat_minor": 2
}
